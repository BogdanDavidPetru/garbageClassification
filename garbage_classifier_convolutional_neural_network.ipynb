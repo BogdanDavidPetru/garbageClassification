{
  "nbformat": 4,
  "nbformat_minor": 0,
  "metadata": {
    "colab": {
      "name": "garbage_classifier_convolutional_neural_network.ipynb",
      "provenance": [],
      "collapsed_sections": [],
      "toc_visible": true
    },
    "kernelspec": {
      "name": "python3",
      "display_name": "Python 3"
    }
  },
  "cells": [
    {
      "cell_type": "markdown",
      "metadata": {
        "id": "3DR-eO17geWu"
      },
      "source": [
        "# Convolutional Neural Network"
      ]
    },
    {
      "cell_type": "markdown",
      "metadata": {
        "id": "EMefrVPCg-60"
      },
      "source": [
        "### Importing the libraries"
      ]
    },
    {
      "cell_type": "code",
      "metadata": {
        "id": "sCV30xyVhFbE"
      },
      "source": [
        "import tensorflow as tf\n",
        "from keras.preprocessing.image import ImageDataGenerator"
      ],
      "execution_count": null,
      "outputs": []
    },
    {
      "cell_type": "code",
      "metadata": {
        "id": "FIleuCAjoFD8",
        "colab": {
          "base_uri": "https://localhost:8080/",
          "height": 35
        },
        "outputId": "93ac5c84-9402-4504-9f32-6c1a44d94aac"
      },
      "source": [
        "tf.__version__"
      ],
      "execution_count": null,
      "outputs": [
        {
          "output_type": "execute_result",
          "data": {
            "application/vnd.google.colaboratory.intrinsic+json": {
              "type": "string"
            },
            "text/plain": [
              "'2.4.1'"
            ]
          },
          "metadata": {
            "tags": []
          },
          "execution_count": 6
        }
      ]
    },
    {
      "cell_type": "markdown",
      "metadata": {
        "id": "oxQxCBWyoGPE"
      },
      "source": [
        "## Part 1 - Data Preprocessing"
      ]
    },
    {
      "cell_type": "code",
      "metadata": {
        "id": "O0Qf0Wu_VcTK",
        "colab": {
          "base_uri": "https://localhost:8080/"
        },
        "outputId": "2813686d-f529-41bc-f54d-80ff4cffcb6b"
      },
      "source": [
        "from google.colab import drive\n",
        "drive.mount('/content/drive')"
      ],
      "execution_count": null,
      "outputs": [
        {
          "output_type": "stream",
          "text": [
            "Drive already mounted at /content/drive; to attempt to forcibly remount, call drive.mount(\"/content/drive\", force_remount=True).\n"
          ],
          "name": "stdout"
        }
      ]
    },
    {
      "cell_type": "markdown",
      "metadata": {
        "id": "MvE-heJNo3GG"
      },
      "source": [
        "### Preprocessing the Training set"
      ]
    },
    {
      "cell_type": "code",
      "metadata": {
        "id": "W9ln98k0dhk0",
        "colab": {
          "base_uri": "https://localhost:8080/"
        },
        "outputId": "9463877e-d3a5-4a47-d189-2b1aa8abe90b"
      },
      "source": [
        "train_datagen = ImageDataGenerator(\n",
        "        rescale=1./255, #feature scaling\n",
        "        shear_range=0.2,\n",
        "        zoom_range=0.2,\n",
        "        horizontal_flip=True)\n",
        "training_set = train_datagen.flow_from_directory(\n",
        "        'drive/MyDrive/garbage-detector/dataset_beach/training_set',\n",
        "        target_size=(64, 64),\n",
        "        batch_size=10,\n",
        "        class_mode='binary') #dirty or clean"
      ],
      "execution_count": null,
      "outputs": [
        {
          "output_type": "stream",
          "text": [
            "Found 180 images belonging to 2 classes.\n"
          ],
          "name": "stdout"
        }
      ]
    },
    {
      "cell_type": "code",
      "metadata": {
        "id": "7aSFhaoYUWpq"
      },
      "source": [
        "print(training_set[0][0])"
      ],
      "execution_count": null,
      "outputs": []
    },
    {
      "cell_type": "markdown",
      "metadata": {
        "id": "mrCMmGw9pHys"
      },
      "source": [
        "### Preprocessing the Test set"
      ]
    },
    {
      "cell_type": "code",
      "metadata": {
        "id": "SunUnikIgLve",
        "colab": {
          "base_uri": "https://localhost:8080/"
        },
        "outputId": "21db6141-0a74-4cdd-b693-34de14802234"
      },
      "source": [
        "test_datagen = ImageDataGenerator(rescale=1./255)\n",
        "\n",
        "test_set = test_datagen.flow_from_directory(\n",
        "        'drive/MyDrive/garbage-detector/dataset_beach/test_set',\n",
        "        target_size=(64, 64),\n",
        "        batch_size=10,\n",
        "        class_mode='binary')"
      ],
      "execution_count": null,
      "outputs": [
        {
          "output_type": "stream",
          "text": [
            "Found 42 images belonging to 2 classes.\n"
          ],
          "name": "stdout"
        }
      ]
    },
    {
      "cell_type": "markdown",
      "metadata": {
        "id": "af8O4l90gk7B"
      },
      "source": [
        "## Part 2 - Building the CNN"
      ]
    },
    {
      "cell_type": "markdown",
      "metadata": {
        "id": "ces1gXY2lmoX"
      },
      "source": [
        "### Initialising the CNN"
      ]
    },
    {
      "cell_type": "code",
      "metadata": {
        "id": "4vr3xHzPpO7T"
      },
      "source": [
        "cnn = tf.keras.models.Sequential()\n"
      ],
      "execution_count": null,
      "outputs": []
    },
    {
      "cell_type": "markdown",
      "metadata": {
        "id": "u5YJj_XMl5LF"
      },
      "source": [
        "### Step 1 - Convolution"
      ]
    },
    {
      "cell_type": "code",
      "metadata": {
        "id": "SgzPgkkDpex9"
      },
      "source": [
        "cnn.add(tf.keras.layers.Conv2D(filters=32, kernel_size=3, activation='relu', input_shape=[64, 64, 3]))"
      ],
      "execution_count": null,
      "outputs": []
    },
    {
      "cell_type": "markdown",
      "metadata": {
        "id": "tf87FpvxmNOJ"
      },
      "source": [
        "### Step 2 - Pooling"
      ]
    },
    {
      "cell_type": "code",
      "metadata": {
        "id": "YtFQi05IquIW"
      },
      "source": [
        "cnn.add(tf.keras.layers.MaxPool2D(pool_size=2, strides = 2 ))"
      ],
      "execution_count": null,
      "outputs": []
    },
    {
      "cell_type": "markdown",
      "metadata": {
        "id": "xaTOgD8rm4mU"
      },
      "source": [
        "### Adding a second convolutional layer"
      ]
    },
    {
      "cell_type": "code",
      "metadata": {
        "id": "vC5D0bLVrqB2"
      },
      "source": [
        "cnn.add(tf.keras.layers.Conv2D(filters=32, kernel_size=3, activation = 'relu'))\n",
        "cnn.add(tf.keras.layers.MaxPool2D(pool_size=2, strides = 2 ))"
      ],
      "execution_count": null,
      "outputs": []
    },
    {
      "cell_type": "markdown",
      "metadata": {
        "id": "tBqFJ4fOyCkn"
      },
      "source": [
        "#Adding a third layer"
      ]
    },
    {
      "cell_type": "code",
      "metadata": {
        "id": "dA4Nh4k0yGkt"
      },
      "source": [
        "#cnn.add(tf.keras.layers.Conv2D(filters=32, kernel_size=3, activation = 'relu'))\n",
        "#cnn.add(tf.keras.layers.MaxPool2D(pool_size=2, strides = 2 ))"
      ],
      "execution_count": null,
      "outputs": []
    },
    {
      "cell_type": "markdown",
      "metadata": {
        "id": "tmiEuvTunKfk"
      },
      "source": [
        "### Step 3 - Flattening"
      ]
    },
    {
      "cell_type": "code",
      "metadata": {
        "id": "AkDiTRtCr4LH"
      },
      "source": [
        "cnn.add(tf.keras.layers.Flatten())"
      ],
      "execution_count": null,
      "outputs": []
    },
    {
      "cell_type": "code",
      "metadata": {
        "id": "oTCTrMQTTjJU"
      },
      "source": [
        ""
      ],
      "execution_count": null,
      "outputs": []
    },
    {
      "cell_type": "markdown",
      "metadata": {
        "id": "dAoSECOm203v"
      },
      "source": [
        "### Step 4 - Full Connection"
      ]
    },
    {
      "cell_type": "code",
      "metadata": {
        "id": "BYFgAjgysKey"
      },
      "source": [
        "cnn.add(tf.keras.layers.Dense(units=128, activation='relu'))#units-nr of neurons\n",
        "#cnn.add(tf.keras.layers.Dense(units=128, activation='relu'))#units-nr of neurons\n",
        "#cnn.add(tf.keras.layers.Dense(units=64, activation='relu'))#units-nr of neurons"
      ],
      "execution_count": null,
      "outputs": []
    },
    {
      "cell_type": "markdown",
      "metadata": {
        "id": "yTldFvbX28Na"
      },
      "source": [
        "### Step 5 - Output Layer"
      ]
    },
    {
      "cell_type": "code",
      "metadata": {
        "id": "4n7x5Ppqs21T"
      },
      "source": [
        "cnn.add(tf.keras.layers.Dense(units=1, activation='sigmoid'))#one out neuron"
      ],
      "execution_count": null,
      "outputs": []
    },
    {
      "cell_type": "markdown",
      "metadata": {
        "id": "D6XkI90snSDl"
      },
      "source": [
        "## Part 3 - Training the CNN"
      ]
    },
    {
      "cell_type": "markdown",
      "metadata": {
        "id": "vfrFQACEnc6i"
      },
      "source": [
        "### Compiling the CNN"
      ]
    },
    {
      "cell_type": "code",
      "metadata": {
        "id": "Ndy3R2_rtfwA"
      },
      "source": [
        "cnn.compile(optimizer ='adam' , loss = 'binary_crossentropy', metrics = ['accuracy'])"
      ],
      "execution_count": null,
      "outputs": []
    },
    {
      "cell_type": "markdown",
      "metadata": {
        "id": "ehS-v3MIpX2h"
      },
      "source": [
        "### Training the CNN on the Training set and evaluating it on the Test set"
      ]
    },
    {
      "cell_type": "code",
      "metadata": {
        "id": "W5prnfS-t9IH",
        "colab": {
          "base_uri": "https://localhost:8080/"
        },
        "outputId": "90de2e82-dad7-494e-e405-aa3a8dcfa10d"
      },
      "source": [
        "cnn.fit(x=training_set, validation_data = test_set, epochs=25)"
      ],
      "execution_count": null,
      "outputs": [
        {
          "output_type": "stream",
          "text": [
            "Epoch 1/25\n",
            "18/18 [==============================] - 71s 4s/step - loss: 0.8629 - accuracy: 0.5963 - val_loss: 0.6550 - val_accuracy: 0.8571\n",
            "Epoch 2/25\n",
            "18/18 [==============================] - 2s 85ms/step - loss: 0.6406 - accuracy: 0.7985 - val_loss: 0.4517 - val_accuracy: 0.8095\n",
            "Epoch 3/25\n",
            "18/18 [==============================] - 2s 88ms/step - loss: 0.4766 - accuracy: 0.8335 - val_loss: 0.3749 - val_accuracy: 0.8333\n",
            "Epoch 4/25\n",
            "18/18 [==============================] - 2s 85ms/step - loss: 0.4259 - accuracy: 0.8154 - val_loss: 0.3941 - val_accuracy: 0.8333\n",
            "Epoch 5/25\n",
            "18/18 [==============================] - 2s 90ms/step - loss: 0.3493 - accuracy: 0.8443 - val_loss: 0.4137 - val_accuracy: 0.8333\n",
            "Epoch 6/25\n",
            "18/18 [==============================] - 2s 84ms/step - loss: 0.3556 - accuracy: 0.8820 - val_loss: 0.4042 - val_accuracy: 0.8333\n",
            "Epoch 7/25\n",
            "18/18 [==============================] - 2s 86ms/step - loss: 0.3647 - accuracy: 0.8406 - val_loss: 0.7513 - val_accuracy: 0.7857\n",
            "Epoch 8/25\n",
            "18/18 [==============================] - 2s 86ms/step - loss: 0.3564 - accuracy: 0.8759 - val_loss: 0.3740 - val_accuracy: 0.8333\n",
            "Epoch 9/25\n",
            "18/18 [==============================] - 1s 81ms/step - loss: 0.3859 - accuracy: 0.8583 - val_loss: 0.5261 - val_accuracy: 0.8095\n",
            "Epoch 10/25\n",
            "18/18 [==============================] - 2s 86ms/step - loss: 0.2802 - accuracy: 0.8861 - val_loss: 0.6170 - val_accuracy: 0.7857\n",
            "Epoch 11/25\n",
            "18/18 [==============================] - 1s 82ms/step - loss: 0.2618 - accuracy: 0.8861 - val_loss: 0.4538 - val_accuracy: 0.8571\n",
            "Epoch 12/25\n",
            "18/18 [==============================] - 2s 87ms/step - loss: 0.2705 - accuracy: 0.9131 - val_loss: 0.3285 - val_accuracy: 0.8571\n",
            "Epoch 13/25\n",
            "18/18 [==============================] - 2s 84ms/step - loss: 0.2037 - accuracy: 0.9136 - val_loss: 0.7098 - val_accuracy: 0.7619\n",
            "Epoch 14/25\n",
            "18/18 [==============================] - 2s 82ms/step - loss: 0.2280 - accuracy: 0.9152 - val_loss: 0.2989 - val_accuracy: 0.8810\n",
            "Epoch 15/25\n",
            "18/18 [==============================] - 2s 85ms/step - loss: 0.2329 - accuracy: 0.9254 - val_loss: 0.3939 - val_accuracy: 0.8571\n",
            "Epoch 16/25\n",
            "18/18 [==============================] - 2s 85ms/step - loss: 0.2328 - accuracy: 0.9260 - val_loss: 0.3493 - val_accuracy: 0.8810\n",
            "Epoch 17/25\n",
            "18/18 [==============================] - 2s 84ms/step - loss: 0.2033 - accuracy: 0.9226 - val_loss: 0.3374 - val_accuracy: 0.8810\n",
            "Epoch 18/25\n",
            "18/18 [==============================] - 1s 81ms/step - loss: 0.1993 - accuracy: 0.9111 - val_loss: 0.4801 - val_accuracy: 0.8810\n",
            "Epoch 19/25\n",
            "18/18 [==============================] - 2s 85ms/step - loss: 0.1532 - accuracy: 0.9367 - val_loss: 0.6011 - val_accuracy: 0.8095\n",
            "Epoch 20/25\n",
            "18/18 [==============================] - 2s 88ms/step - loss: 0.2208 - accuracy: 0.9416 - val_loss: 0.4002 - val_accuracy: 0.9048\n",
            "Epoch 21/25\n",
            "18/18 [==============================] - 2s 83ms/step - loss: 0.2397 - accuracy: 0.9204 - val_loss: 0.3247 - val_accuracy: 0.9048\n",
            "Epoch 22/25\n",
            "18/18 [==============================] - 2s 87ms/step - loss: 0.2122 - accuracy: 0.9317 - val_loss: 0.3256 - val_accuracy: 0.9048\n",
            "Epoch 23/25\n",
            "18/18 [==============================] - 1s 80ms/step - loss: 0.2525 - accuracy: 0.9280 - val_loss: 0.3911 - val_accuracy: 0.9286\n",
            "Epoch 24/25\n",
            "18/18 [==============================] - 2s 86ms/step - loss: 0.1060 - accuracy: 0.9619 - val_loss: 0.5348 - val_accuracy: 0.8810\n",
            "Epoch 25/25\n",
            "18/18 [==============================] - 2s 85ms/step - loss: 0.1269 - accuracy: 0.9611 - val_loss: 0.5849 - val_accuracy: 0.8810\n"
          ],
          "name": "stdout"
        },
        {
          "output_type": "execute_result",
          "data": {
            "text/plain": [
              "<tensorflow.python.keras.callbacks.History at 0x7f6b1eb2d278>"
            ]
          },
          "metadata": {
            "tags": []
          },
          "execution_count": 20
        }
      ]
    },
    {
      "cell_type": "markdown",
      "metadata": {
        "id": "U3PZasO0006Z"
      },
      "source": [
        "## Part 4 - Making a single prediction"
      ]
    },
    {
      "cell_type": "code",
      "metadata": {
        "id": "eK_z2sL1vECx"
      },
      "source": [
        "import numpy as np\n",
        "from keras.preprocessing import image\n",
        "test_image = image.load_img('drive/MyDrive/garbage-detector/dataset_beach/single_prediction/clean_dirty_1.jpg', target_size = (64, 64))\n",
        "#test_image = image.load_img('drive/MyDrive/garbage-detector/dataset/training_set/clean/clean1.jpg', target_size = (64, 64))\n",
        "test_image = image.img_to_array(test_image)\n",
        "test_image = np.expand_dims(test_image, axis = 0)  #make a batch as training set was processed in batches\n",
        "result = cnn.predict(test_image)\n",
        "training_set.class_indices\n",
        "if result[0][0] > 0.5:#batch zero(first) and first element of that batch->zero index\n",
        "  prediction1 = 'dirty'\n",
        "else:\n",
        "  prediction1 = 'clean'\n",
        "\n",
        "test_image = image.load_img('drive/MyDrive/garbage-detector/dataset_beach/single_prediction/clean_dirty_2.jpg', target_size = (64, 64))\n",
        "test_image = image.img_to_array(test_image)\n",
        "test_image = np.expand_dims(test_image, axis = 0)  #make a batch as training set was processed in batches\n",
        "result = cnn.predict(test_image)\n",
        "training_set.class_indices\n",
        "if result[0][0] > 0.5:#batch zero(first) and first element of that batch->zero index\n",
        "  prediction2 = 'dirty'\n",
        "else:\n",
        "  prediction2 = 'clean'\n",
        "\n",
        "\n",
        "test_image = image.load_img('drive/MyDrive/garbage-detector/dataset_beach/single_prediction/clean_dirty_3.jpg', target_size = (64, 64))\n",
        "test_image = image.img_to_array(test_image)\n",
        "test_image = np.expand_dims(test_image, axis = 0)  #make a batch as training set was processed in batches\n",
        "result = cnn.predict(test_image)\n",
        "training_set.class_indices\n",
        "if result[0][0] > 0.5:#batch zero(first) and first element of that batch->zero index\n",
        "  prediction3 = 'dirty'\n",
        "else:\n",
        "  prediction3 = 'clean'\n",
        "\n",
        "\n",
        "test_image = image.load_img('drive/MyDrive/garbage-detector/dataset_beach/single_prediction/clean_dirty_4.jpg', target_size = (64, 64))\n",
        "test_image = image.img_to_array(test_image)\n",
        "test_image = np.expand_dims(test_image, axis = 0)  #make a batch as training set was processed in batches\n",
        "result = cnn.predict(test_image)\n",
        "training_set.class_indices\n",
        "if result[0][0] > 0.5:#batch zero(first) and first element of that batch->zero index\n",
        "  prediction4 = 'dirty'\n",
        "else:\n",
        "  prediction4 = 'clean'\n",
        "\n",
        "\n",
        "test_image = image.load_img('drive/MyDrive/garbage-detector/dataset_beach/single_prediction/clean_dirty_5.jpg', target_size = (64, 64))\n",
        "test_image = image.img_to_array(test_image)\n",
        "test_image = np.expand_dims(test_image, axis = 0)  #make a batch as training set was processed in batches\n",
        "result = cnn.predict(test_image)\n",
        "training_set.class_indices\n",
        "if result[0][0] > 0.5:#batch zero(first) and first element of that batch->zero index\n",
        "  prediction5 = 'dirty'\n",
        "else:\n",
        "  prediction5 = 'clean'\n",
        "\n",
        "test_image = image.load_img('drive/MyDrive/garbage-detector/dataset_beach/single_prediction/clean_dirty_6.jpg', target_size = (64, 64))\n",
        "test_image = image.img_to_array(test_image)\n",
        "test_image = np.expand_dims(test_image, axis = 0)  #make a batch as training set was processed in batches\n",
        "result = cnn.predict(test_image)\n",
        "training_set.class_indices\n",
        "if result[0][0] > 0.5:#batch zero(first) and first element of that batch->zero index\n",
        "  prediction6 = 'dirty'\n",
        "else:\n",
        "  prediction6 = 'clean'\n"
      ],
      "execution_count": null,
      "outputs": []
    },
    {
      "cell_type": "code",
      "metadata": {
        "id": "MQi3GngRx69B",
        "colab": {
          "base_uri": "https://localhost:8080/"
        },
        "outputId": "24bd2294-8f98-40e6-efe8-f6942b9c5631"
      },
      "source": [
        "print(\"Should be: clean     Predicted: \" + prediction1)\n",
        "print(\"Should be: clean     Predicted: \" + prediction2)\n",
        "print(\"Should be: clean     Predicted: \" + prediction3)\n",
        "print(\"Should be: dirty     Predicted: \" + prediction4)\n",
        "print(\"Should be: dirty     Predicted: \" + prediction5)\n",
        "print(\"Should be: dirty     Predicted: \" + prediction6)"
      ],
      "execution_count": null,
      "outputs": [
        {
          "output_type": "stream",
          "text": [
            "Should be: clean     Predicted: clean\n",
            "Should be: clean     Predicted: dirty\n",
            "Should be: clean     Predicted: clean\n",
            "Should be: dirty     Predicted: dirty\n",
            "Should be: dirty     Predicted: dirty\n",
            "Should be: dirty     Predicted: dirty\n"
          ],
          "name": "stdout"
        }
      ]
    }
  ]
}